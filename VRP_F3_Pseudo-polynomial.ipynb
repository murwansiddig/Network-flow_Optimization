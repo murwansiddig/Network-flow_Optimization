{
 "cells": [
  {
   "cell_type": "markdown",
   "metadata": {},
   "source": [
    "# Vehicle Routing Problem\n",
    "[Murwan Siddig](mailto:msiddig@clemson.edu)\n",
    "\n",
    "------------------------------------------------------------------------\n",
    "## Pseudo-polynomial Formulation"
   ]
  },
  {
   "cell_type": "code",
   "execution_count": 1,
   "metadata": {},
   "outputs": [],
   "source": [
    "include(\"data_VRP.jl\");"
   ]
  },
  {
   "cell_type": "code",
   "execution_count": 2,
   "metadata": {},
   "outputs": [
    {
     "name": "stdout",
     "output_type": "stream",
     "text": [
      "\n",
      "--------------------------------------------\n",
      "Warning: your license will expire in 14 days\n",
      "--------------------------------------------\n",
      "\n",
      "Academic license - for non-commercial use only\n"
     ]
    }
   ],
   "source": [
    "#technical lines\n",
    "using Random;\n",
    "using Distributions;\n",
    "using LinearAlgebra\n",
    "using JuMP;\n",
    "using Gurobi;\n",
    "const GRB_ENV = Gurobi.Env();"
   ]
  },
  {
   "cell_type": "code",
   "execution_count": 3,
   "metadata": {},
   "outputs": [
    {
     "data": {
      "text/plain": [
       "extractTour (generic function with 1 method)"
      ]
     },
     "execution_count": 3,
     "metadata": {},
     "output_type": "execute_result"
    }
   ],
   "source": [
    "#Function to extract the tour for each vehicle in operation \n",
    "function extractTour(n, sol)\n",
    "    #Initilaize the an empty list for the lists of tours\n",
    "    tours = [];\n",
    "    #The number of vehicles in operation is equal to the number of arcs leaving the depot node \n",
    "    used_vehilces = sum(sol[1,j] for j=1:n);\n",
    "    count = used_vehilces\n",
    "    #Keep doing this loop until the tour for each vehicle in use is obtained \n",
    "    while count !=0\n",
    "        count -=1\n",
    "        tour = [1]  # Start at city 1 always\n",
    "        cur_city = 1\n",
    "        while true\n",
    "            # Look for first arc out of current city\n",
    "            for j = 1:n\n",
    "                if sol[cur_city,j] >= 1-1e-6\n",
    "                    # Found next city\n",
    "                    push!(tour, j)\n",
    "                    # Don't ever use this arc again\n",
    "                    sol[cur_city, j] = 0.0\n",
    "                    sol[j, cur_city] = 0.0\n",
    "                    # Move to next city\n",
    "                    cur_city = j\n",
    "                    break\n",
    "                end\n",
    "            end\n",
    "            # If we have come back to 1, stop\n",
    "            if cur_city == 1\n",
    "                break\n",
    "            end\n",
    "        end  # end while\n",
    "        push!(tours, tour)\n",
    "    end\n",
    "    \n",
    "    return tours\n",
    "end"
   ]
  },
  {
   "cell_type": "code",
   "execution_count": 4,
   "metadata": {},
   "outputs": [],
   "source": [
    "#Pseudo-polynomial formulation \n",
    "\n",
    "VRP3 = Model(optimizer_with_attributes(() -> Gurobi.Optimizer(GRB_ENV), \"OutputFlag\" => 0));\n",
    "\n",
    "@variable(VRP3, x[1:nn,1:nn,0:Q], Bin);\n",
    "@objective(VRP3, Min, sum(sum(c[i,j]*x[i,j,k] for k=0:Q) for i=1:nn for j=1:nn));\n",
    "                \n",
    "for i = 1:nn\n",
    "    @constraint(VRP3, sum(x[i,i,k] for k=0:Q) == 0)\n",
    "end  \n",
    "                \n",
    "for i=2:nn\n",
    "    ind = [];\n",
    "    for k=1:nn\n",
    "        if k !=i\n",
    "            push!(ind,k)\n",
    "        end\n",
    "    end\n",
    "    @constraint(VRP3, sum(sum(x[i,j,k] for k=0:Q) for j in ind)== 1);\n",
    "    l = q[i];\n",
    "    for k=l:Q\n",
    "        @constraint(VRP3, sum(x[j,i,k] for j in ind)-sum(x[i,j,(k-l)] for j in ind)== 0);\n",
    "    end\n",
    "end\n",
    "@constraint(VRP3, sum(sum(x[1,j,k] for k=0:Q) for j=2:nn)==sum(sum(x[j,1,k] for k=0:Q) for j=2:nn));\n",
    "@constraint(VRP3, sum(sum(x[j,1,k] for k=0:Q) for j=2:nn) <=nv);\n",
    "@constraint(VRP3, sum(sum(x[1,j,k] for k=0:Q) for j=2:nn) <=nv);\n",
    "   \n",
    "for i=1:nn\n",
    "    for k=1:Q\n",
    "        @constraint(VRP3, x[i,1,k] ==0);\n",
    "    end\n",
    "    \n",
    "    for j=2:nn\n",
    "        if j==i\n",
    "            continue\n",
    "        else\n",
    "            t = q[j]-1\n",
    "            for k=0:t\n",
    "                @constraint(VRP3, x[i,j,k] ==0);\n",
    "            end\n",
    "        end\n",
    "    end\n",
    "end"
   ]
  },
  {
   "cell_type": "code",
   "execution_count": 15,
   "metadata": {},
   "outputs": [
    {
     "name": "stdout",
     "output_type": "stream",
     "text": [
      "***********************************************\n",
      "***********************************************\n",
      " solved! \n",
      "===============================================\n",
      "This solution is Feasible and Optimal\n",
      "Optimal objective value = 784.0\n"
     ]
    }
   ],
   "source": [
    "@time optimize!(VRP3)\n",
    "println(\"***********************************************\")\n",
    "println(\"***********************************************\")\n",
    "println(\" solved! \")\n",
    "println(\"===============================================\")\n",
    "#tours = extractTour(nn, value.(x)[])\n",
    "#println(\"Tours = \",tours)\n",
    "println(\"This solution is Feasible and Optimal\")\n",
    "println(\"Optimal objective value = \", objective_value(VRP3));"
   ]
  },
  {
   "cell_type": "code",
   "execution_count": null,
   "metadata": {},
   "outputs": [],
   "source": []
  }
 ],
 "metadata": {
  "kernelspec": {
   "display_name": "Julia 1.5.3",
   "language": "julia",
   "name": "julia-1.5"
  },
  "language_info": {
   "file_extension": ".jl",
   "mimetype": "application/julia",
   "name": "julia",
   "version": "1.5.3"
  }
 },
 "nbformat": 4,
 "nbformat_minor": 4
}
