{
 "cells": [
  {
   "cell_type": "markdown",
   "metadata": {},
   "source": [
    "# The shortest path between each pair of cities in Westeros\n",
    "[Murwan Siddig](mailto:msiddig@clemson.edu)"
   ]
  },
  {
   "cell_type": "code",
   "execution_count": 2,
   "metadata": {},
   "outputs": [],
   "source": [
    "#technical lines\n",
    "using LightGraphs\n",
    "using GraphPlot"
   ]
  },
  {
   "cell_type": "code",
   "execution_count": 5,
   "metadata": {},
   "outputs": [
    {
     "data": {
      "text/plain": [
       "{18, 64} directed simple Int64 graph"
      ]
     },
     "execution_count": 5,
     "metadata": {},
     "output_type": "execute_result"
    }
   ],
   "source": [
    "# Define Westeros name vector\n",
    "names = [\n",
    "        \"Castle Black\",\n",
    "        \"Winterfell\",\n",
    "        \"White Harbor\",\n",
    "        \"Moat Cailin\",\n",
    "        \"The Twins\",\n",
    "        \"Riverrun\",\n",
    "        \"The Trident\",\n",
    "        \"Harrenhal\",\n",
    "        \"The Eyrie\",\n",
    "        \"Casterly Rock\",\n",
    "        \"King's Landing\",\n",
    "        \"Highgarden\",\n",
    "        \"Summerhall\",\n",
    "        \"Oldtown\",\n",
    "        \"Horn Hill\",\n",
    "        \"Nightsong\",\n",
    "        \"Sunspear\",\n",
    "        \"Storm's End\"\n",
    "        ]\n",
    "\n",
    "# Define arcs\n",
    "arcs = [\n",
    "    1 2 680\n",
    "    1 3 1105\n",
    "    2 3 490\n",
    "    2 4 590\n",
    "    3 4 180\n",
    "    4 5 530\n",
    "    4 7 770\n",
    "    4 11 1420\n",
    "    5 6 495\n",
    "    5 7 420\n",
    "    6 7 255\n",
    "    6 8 285\n",
    "    6 11 750\n",
    "    6 10 590\n",
    "    7 8 195\n",
    "    7 9 545\n",
    "    8 11 380\n",
    "    9 11 990\n",
    "    10 11 1050\n",
    "    10 12 730\n",
    "    11 12 915\n",
    "    11 13 380\n",
    "    11 18 380\n",
    "    12 14 390\n",
    "    12 15 195\n",
    "    12 13 640\n",
    "    13 15 500\n",
    "    13 18 350\n",
    "    13 16 425\n",
    "    14 15 320\n",
    "    15 16 225\n",
    "    16 17 1170\n",
    "]\n",
    "# Empty distance and adjacency matrices\n",
    "distance = zeros(Int64,length(names),length(names))\n",
    "adj = zeros(Int64,length(names),length(names))\n",
    "# Populate them\n",
    "for k in 1:size(arcs)[1]\n",
    "    i=arcs[k,1]\n",
    "    j=arcs[k,2]\n",
    "    d=arcs[k,3]\n",
    "    adj[i,j]=1\n",
    "    adj[j,i]=1\n",
    "    distance[i,j]=d\n",
    "    distance[j,i]=d\n",
    "end\n",
    "\n",
    "GoT = DiGraph(adj);"
   ]
  },
  {
   "cell_type": "code",
   "execution_count": 32,
   "metadata": {},
   "outputs": [
    {
     "data": {
      "text/plain": [
       "allShortestPaths (generic function with 2 methods)"
      ]
     },
     "execution_count": 32,
     "metadata": {},
     "output_type": "execute_result"
    }
   ],
   "source": [
    "# Returns a vector with a matrix of the distances of the shortest paths between all pairs\n",
    "# and a matrix of vectors showing the nodes of the shortest path for each pair\n",
    "function allShortestPaths(g,arc_len,source=1)\n",
    "    # Do bellman ford to get node potentials\n",
    "    out=bellman_ford_shortest_paths(g,source,arc_len)\n",
    "    # Modify arc length matrix\n",
    "    arc_len2=copy(arc_len)\n",
    "    for i in 1:size(arc_len2)[1]\n",
    "        for j in 1:size(arc_len2)[1]\n",
    "            if arc_len2[j,i]!=0\n",
    "                arc_len2[j,i]+=-out.dists[i]+out.dists[j]\n",
    "            end\n",
    "        end \n",
    "    end\n",
    "    # Define matrix for lenghts of shortest paths\n",
    "    dists=copy(arc_len)\n",
    "    # Define matrix for shortest paths\n",
    "    paths=Array{Any,2}(undef, size(arc_len)[1], size(arc_len)[1])\n",
    "    \n",
    "    # Add shortest paths for starting location\n",
    "    for j in 1:size(arc_len)[1]\n",
    "        curr=out.parents[j]\n",
    "        if curr==0 && source!=j\n",
    "            path = []\n",
    "        else\n",
    "            path = [j]\n",
    "        end\n",
    "        path = [j]\n",
    "        while curr!=0\n",
    "            pushfirst!(path,curr)\n",
    "            curr=out.parents[curr]\n",
    "        end\n",
    "        paths[source,j]=path\n",
    "    end\n",
    "    # Add distances for starting location    \n",
    "    dists[source,:]=copy(out.dists)\n",
    "\n",
    "    for i in 1:size(arc_len2)[1]\n",
    "        if i==source\n",
    "            continue\n",
    "        end\n",
    "        # Dijkstra\n",
    "        djk=dijkstra_shortest_paths(g, i, arc_len2)\n",
    "        \n",
    "        # Distance of shortest path accouting for node potentials\n",
    "        dists[i,:]=djk.dists.-out.dists[i]+out.dists\n",
    "        # Add shortest paths to matrix\n",
    "        for j in 1:size(arc_len)[1]\n",
    "            curr=djk.parents[j]\n",
    "            if curr==0 && i!=j\n",
    "                path = []\n",
    "            else\n",
    "                path = [j]\n",
    "            end\n",
    "            while curr!=0\n",
    "                pushfirst!(path,curr)\n",
    "                curr=djk.parents[curr]\n",
    "            end\n",
    "            paths[i,j]=path\n",
    "        end\n",
    "    end\n",
    "    # Get rid of max integers and add infs for unreachable nodes\n",
    "    dists=float(dists)\n",
    "    bigM = sum(abs.(arc_len))\n",
    "    for i in 1:size(arc_len2)[1]\n",
    "        for j in 1:size(arc_len2)[1]\n",
    "            if abs(dists[j,i])>=bigM\n",
    "                dists[j,i]=Inf\n",
    "            end\n",
    "        end \n",
    "    end\n",
    "    return [dists,paths]\n",
    "end"
   ]
  },
  {
   "cell_type": "code",
   "execution_count": 33,
   "metadata": {},
   "outputs": [
    {
     "data": {
      "text/plain": [
       "printDistanceandPath (generic function with 1 method)"
      ]
     },
     "execution_count": 33,
     "metadata": {},
     "output_type": "execute_result"
    }
   ],
   "source": [
    "# Pretty Print function\n",
    "function printDistanceandPath(start,dest)\n",
    "    s=findfirst(x->x == start, names)\n",
    "    d=findfirst(x->x == dest, names)\n",
    "    \n",
    "    if s==0\n",
    "        println(\"Invalid starting point\")\n",
    "        return\n",
    "    end\n",
    "    \n",
    "    if d==0\n",
    "        println(\"Invalid destination\")\n",
    "        return\n",
    "    end\n",
    "    println(\"The shortest path from \",names[s],\" to \",names[d],\" is:\")\n",
    "    for i in p[2][s,d]\n",
    "        println(\"\\t\",names[i])\n",
    "    end\n",
    "    println(\"The path is \",p[1][s,d],\" long.\")\n",
    "end"
   ]
  },
  {
   "cell_type": "code",
   "execution_count": 37,
   "metadata": {},
   "outputs": [
    {
     "name": "stdout",
     "output_type": "stream",
     "text": [
      "The shortest path from Sunspear to Castle Black is:\n",
      "\tSunspear\n",
      "\tNightsong\n",
      "\tSummerhall\n",
      "\tKing's Landing\n",
      "\tHarrenhal\n",
      "\tThe Trident\n",
      "\tMoat Cailin\n",
      "\tWinterfell\n",
      "\tCastle Black\n",
      "The path is 4590.0 long.\n"
     ]
    }
   ],
   "source": [
    "p=allShortestPaths(GoT,distance,1);\n",
    "printDistanceandPath(\"Sunspear\",\"Castle Black\")"
   ]
  },
  {
   "cell_type": "code",
   "execution_count": null,
   "metadata": {},
   "outputs": [],
   "source": []
  }
 ],
 "metadata": {
  "kernelspec": {
   "display_name": "Julia 1.0.5",
   "language": "julia",
   "name": "julia-1.0"
  },
  "language_info": {
   "file_extension": ".jl",
   "mimetype": "application/julia",
   "name": "julia",
   "version": "1.0.5"
  }
 },
 "nbformat": 4,
 "nbformat_minor": 4
}
