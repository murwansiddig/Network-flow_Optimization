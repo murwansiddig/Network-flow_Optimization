{
 "cells": [
  {
   "cell_type": "markdown",
   "metadata": {},
   "source": [
    "# EdmondKarp Algorithm\n",
    "[Murwan Siddig](mailto:msiddig@clemson.edu)"
   ]
  },
  {
   "cell_type": "code",
   "execution_count": 1,
   "metadata": {},
   "outputs": [
    {
     "data": {
      "text/plain": [
       "bfs (generic function with 1 method)"
      ]
     },
     "execution_count": 1,
     "metadata": {},
     "output_type": "execute_result"
    }
   ],
   "source": [
    "function bfs(s,graph)\n",
    "    ###############\n",
    "    # Inputs\n",
    "    # s: index of the node where you start the graph search\n",
    "    # graph: a representation of the graph using the adjacency list\n",
    "    ###############\n",
    "    # Outputs\n",
    "    # visitedNodeSet: a set of nodes that can be visited from s\n",
    "    # pred: the precedence of each node as a result of BFS\n",
    "    ###############\n",
    "    n = length(graph);\n",
    "    visited = fill(0,n);\n",
    "    pred = fill(-1,n);\n",
    "    OPEN = Any[];\n",
    "    push!(OPEN, s);\n",
    "    visited[s] = 1;\n",
    "    while (length(OPEN) > 0)\n",
    "        t = OPEN[1];\n",
    "        for i in graph[t]\n",
    "            if visited[i] == 0\n",
    "                visited[i] = 1;\n",
    "                pred[i] = t;\n",
    "                push!(OPEN, i);\n",
    "            end\n",
    "        end\n",
    "        filter!(e->e!=t, OPEN);\n",
    "    end\n",
    "    visitedNodeSet = Any[];\n",
    "    for i=1:n\n",
    "        if visited[i] == 1\n",
    "            push!(visitedNodeSet, i);\n",
    "        end\n",
    "    end\n",
    "    return pred, visitedNodeSet\n",
    "end"
   ]
  },
  {
   "cell_type": "code",
   "execution_count": 2,
   "metadata": {},
   "outputs": [
    {
     "data": {
      "text/plain": [
       "constructResidualGraph (generic function with 1 method)"
      ]
     },
     "execution_count": 2,
     "metadata": {},
     "output_type": "execute_result"
    }
   ],
   "source": [
    "function constructResidualGraph(graph, flow, capacity)\n",
    "    ###############\n",
    "    # Inputs\n",
    "    # flow: current flow value for each arc in the graph, having the same structure as the adjacency list for graph.\n",
    "    # graph: a representation of the original graph using the adjacency list\n",
    "    # capacity: gives the capacity of each arc \n",
    "    ###############\n",
    "    # Outputs\n",
    "    # residualGraph: a representation of the residual graph using the adjacency list\n",
    "    # label: a 0/1 label for each arc in the residualGraph, having the same structure as the adjacency list for residualGraph. This is used to denote if an arc is forward/backward in the original graph\n",
    "    ###############\n",
    "    residualGraph = Any[];\n",
    "    label = Any[];\n",
    "    for i = 1:length(graph)\n",
    "        tempResidual = Any[];\n",
    "        tempLabel = Any[];\n",
    "        for j = 1:length(graph[i])\n",
    "            if flow[i][j] < capacity[i][j]\n",
    "                # forward arc\n",
    "                push!(tempResidual, graph[i][j]);\n",
    "                push!(tempLabel, 0);\n",
    "            end\n",
    "        end\n",
    "        push!(residualGraph, tempResidual);\n",
    "        push!(label, tempLabel);\n",
    "    end\n",
    "    for i = 1:length(graph)\n",
    "        for j = 1:length(graph[i])\n",
    "            if flow[i][j] > 0\n",
    "                # backward arc\n",
    "                push!(residualGraph[graph[i][j]], i);\n",
    "                push!(label[graph[i][j]], 1);\n",
    "            end\n",
    "        end\n",
    "    end\n",
    "    return residualGraph, label\n",
    "end"
   ]
  },
  {
   "cell_type": "code",
   "execution_count": 3,
   "metadata": {},
   "outputs": [
    {
     "data": {
      "text/plain": [
       "EdmondKarp (generic function with 1 method)"
      ]
     },
     "execution_count": 3,
     "metadata": {},
     "output_type": "execute_result"
    }
   ],
   "source": [
    "function EdmondKarp(graph,capacity)\n",
    "    ###############\n",
    "    # Inputs\n",
    "    # capacity: capacity of each arc in the graph, having the same structure as the adjacency list for graph.\n",
    "    # graph: a representation of the original graph using the adjacency list\n",
    "    ###############\n",
    "    # Outputs\n",
    "    # maxflow: maximum flow value\n",
    "    ###############\n",
    "    # First, initialize flow to be 0-flow\n",
    "    flow = Any[];\n",
    "    for i in graph\n",
    "        subflow = fill(0,length(graph[i]));\n",
    "        push!(flow, subflow);\n",
    "    end\n",
    "    residualGraph, label = constructResidualGraph(graph, flow, capacity);\n",
    "    s = 1;\n",
    "    n = length(graph);\n",
    "    pred, visitedNodeSet = bfs(s,residualGraph);\n",
    "    while (n in visitedNodeSet)\n",
    "        # Whenever n can be found from s in BFS, meaning that we have found an augmenting path\n",
    "        path = Any[];\n",
    "        t = n;\n",
    "        while pred[t] != -1\n",
    "            segment = fill(0,2);\n",
    "            segment[1] = pred[t];\n",
    "            segment[2] = t;\n",
    "            push!(path, segment);\n",
    "            t = pred[t];\n",
    "        end\n",
    "        # Now go through the path, find the bottleneck\n",
    "        minCap = 1e8;\n",
    "        for seg in path\n",
    "            # First check if it is a forward or a backward arc\n",
    "            temparr = residualGraph[seg[1]];\n",
    "            #ind = find(temparr -> temparr == seg[2],temparr);\n",
    "            ind = findall(x -> x == seg[2],temparr)[1];\n",
    "            #println(\"temparr = \", temparr)\n",
    "            #println(\"seg[2] = \", seg[2])\n",
    "            #ind = findfirst(temparr, seg[2]);\n",
    "            cap = 0;\n",
    "            if label[seg[1]][ind] == 1\n",
    "                # backward\n",
    "                temparr2 = graph[seg[2]];\n",
    "                #ind2 = find(temparr2 -> temparr2 == seg[1], temparr2);\n",
    "                ind2 = findall(x -> x == seg[1],temparr2)[1];\n",
    "                #ind2 = findfirst(temparr2, seg[1]);\n",
    "                cap = flow[seg[2]][ind2];\n",
    "            else\n",
    "                # forward\n",
    "                temparr2 = graph[seg[1]];\n",
    "                #ind2 = find(temparr2 -> temparr2 == seg[2], temparr2);\n",
    "                ind2 = findall(x -> x == seg[2],temparr2)[1];\n",
    "                #ind2 = findfirst(temparr2, seg[2]);\n",
    "                cap = capacity[seg[1]][ind2] - flow[seg[1]][ind2];\n",
    "            end\n",
    "            if cap < minCap\n",
    "                minCap = cap;\n",
    "            end\n",
    "        end\n",
    "        # We will augment the flow now, push more minCap\n",
    "        for seg in path\n",
    "            # First check if it is a forward or a backward arc\n",
    "            temparr = residualGraph[seg[1]];\n",
    "            #ind = find(temparr -> temparr == seg[2],temparr);\n",
    "            ind = findall(x -> x == seg[2],temparr)[1];\n",
    "            #ind = findfirst(temparr, seg[2]);\n",
    "            if label[seg[1]][ind] == 1\n",
    "                # backward\n",
    "                temparr2 = graph[seg[2]];\n",
    "                #ind2 = find(temparr2 -> temparr2 == seg[1], temparr2);\n",
    "                ind2 = findall(x -> x == seg[1],temparr2)[1];\n",
    "                #ind2 = findfirst(temparr2, seg[1]);\n",
    "                flow[seg[2]][ind2] -= minCap;\n",
    "            else\n",
    "                # forward\n",
    "                temparr2 = graph[seg[1]];\n",
    "                #ind2 = find(temparr2 -> temparr2 == seg[2], temparr2);\n",
    "                ind2 = findall(x -> x == seg[2],temparr2)[1];\n",
    "                #ind2 = findfirst(temparr2, seg[2]);\n",
    "                flow[seg[1]][ind2] += minCap;\n",
    "            end\n",
    "        end\n",
    "        # We will update the residualGraph now\n",
    "        residualGraph, label = constructResidualGraph(graph, flow,capacity);\n",
    "        pred, visitedNodeSet = bfs(s,residualGraph);\n",
    "    end\n",
    "    # After the loop, now calculate maxflow from flow\n",
    "    maxflow = 0;\n",
    "    for i in flow[s]\n",
    "        maxflow += i;\n",
    "    end\n",
    "    return flow, maxflow\n",
    "end"
   ]
  },
  {
   "cell_type": "code",
   "execution_count": 4,
   "metadata": {},
   "outputs": [],
   "source": [
    "graph = [[2,3],[4],[2,4,5],[5,6],[6],[]];\n",
    "capacity = [[6,4],[5],[3,4,3],[2,4],[6],[]];"
   ]
  },
  {
   "cell_type": "code",
   "execution_count": 5,
   "metadata": {},
   "outputs": [
    {
     "name": "stdout",
     "output_type": "stream",
     "text": [
      "maxflow = 9\n"
     ]
    }
   ],
   "source": [
    "flow, maxflow = EdmondKarp(graph,capacity);\n",
    "println(\"maxflow = \", maxflow)"
   ]
  },
  {
   "cell_type": "code",
   "execution_count": null,
   "metadata": {},
   "outputs": [],
   "source": []
  }
 ],
 "metadata": {
  "kernelspec": {
   "display_name": "Julia 1.0.5",
   "language": "julia",
   "name": "julia-1.0"
  },
  "language_info": {
   "file_extension": ".jl",
   "mimetype": "application/julia",
   "name": "julia",
   "version": "1.0.5"
  }
 },
 "nbformat": 4,
 "nbformat_minor": 4
}
