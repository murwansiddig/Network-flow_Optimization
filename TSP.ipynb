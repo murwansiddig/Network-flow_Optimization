{
 "cells": [
  {
   "cell_type": "markdown",
   "metadata": {},
   "source": [
    "# Travelling Salesman Problem (TSP)\n",
    "[Murwan Siddig](mailto:msiddig@clemson.edu)\n",
    "\n",
    "------------------------------------------------------------------------\n",
    "\n",
    " \\begin{align*}\n",
    " \\min_{\\text{s.t.}} \\ & \\sum_{e \\in E} c_{e}x_{e}  \\\\\n",
    " & \\sum_{e \\in \\delta (v)} x_e = 2 \\ , \\ \\forall v \\in V\\\\\n",
    " & \\sum_{e \\in \\delta (S)} x_{e} \\ge 2 \\ , \\ \\forall \\emptyset \\neq S \\neq V \\\\\n",
    " & x_{e} \\in \\{0,1\\} \\ , \\ \\forall e \\in E\\\\\n",
    "\\end{align*}"
   ]
  },
  {
   "cell_type": "code",
   "execution_count": 1,
   "metadata": {},
   "outputs": [
    {
     "name": "stdout",
     "output_type": "stream",
     "text": [
      "Academic license - for non-commercial use only\n"
     ]
    }
   ],
   "source": [
    "#technical lines\n",
    "using Random;\n",
    "using Distributions;\n",
    "using LinearAlgebra\n",
    "using JuMP;\n",
    "using Gurobi;\n",
    "const GRB_ENV = Gurobi.Env();"
   ]
  },
  {
   "cell_type": "code",
   "execution_count": 2,
   "metadata": {},
   "outputs": [
    {
     "data": {
      "text/plain": [
       "extractTour (generic function with 1 method)"
      ]
     },
     "execution_count": 2,
     "metadata": {},
     "output_type": "execute_result"
    }
   ],
   "source": [
    "# extractTour\n",
    "# Given a n-by-n matrix representing the solution to an undirected TSP,\n",
    "# extract the tour as a vector\n",
    "# Input:\n",
    "#  n        Number of cities\n",
    "#  sol      n-by-n 0-1 symmetric matrix representing solution\n",
    "# Output:\n",
    "#  tour     n+1 length vector of tour, starting and ending at 1\n",
    "\n",
    "function extractTour(n, sol)\n",
    "    tour = [1]  # Start at city 1 always\n",
    "    cur_city = 1\n",
    "    while true\n",
    "        # Look for first arc out of current city\n",
    "        for j = 1:n\n",
    "            if sol[cur_city,j] >= 1-1e-6\n",
    "                # Found next city\n",
    "                push!(tour, j)\n",
    "                # Don't ever use this arc again\n",
    "                sol[cur_city, j] = 0.0\n",
    "                sol[j, cur_city] = 0.0\n",
    "                # Move to next city\n",
    "                cur_city = j\n",
    "                break\n",
    "            end\n",
    "        end\n",
    "        # If we have come back to 1, stop\n",
    "        if cur_city == 1\n",
    "            break\n",
    "        end\n",
    "    end  # end while\n",
    "    return tour\n",
    "end"
   ]
  },
  {
   "cell_type": "code",
   "execution_count": 3,
   "metadata": {},
   "outputs": [
    {
     "data": {
      "text/plain": [
       "findSubtour (generic function with 1 method)"
      ]
     },
     "execution_count": 3,
     "metadata": {},
     "output_type": "execute_result"
    }
   ],
   "source": [
    "# findSubtour\n",
    "# Given a n-by-n matrix representing solution to the relaxed\n",
    "# undirected TSP problem, find a set of nodes belonging to a subtour\n",
    "# Input:\n",
    "#  n        Number of cities\n",
    "#  sol      n-by-n 0-1 symmetric matrix representing solution\n",
    "# Outputs:\n",
    "#  subtour  n length vector of booleans, true iff in a particular subtour\n",
    "#  subtour_length   Number of cities in subtour (if n, no subtour found)\n",
    "function findSubtour(n, sol)\n",
    "    # Initialize to no subtour\n",
    "    subtour = fill(false,n)\n",
    "    # Always start looking at city 1\n",
    "    cur_city = 1\n",
    "    subtour[cur_city] = true\n",
    "    subtour_length = 1\n",
    "    while true\n",
    "        # Find next node that we haven't yet visited\n",
    "        found_city = false\n",
    "        for j = 1:n\n",
    "            if !subtour[j]\n",
    "                if sol[cur_city, j] >= 1 - 1e-6\n",
    "                    # Arc to unvisited city, follow it\n",
    "                    cur_city = j\n",
    "                    subtour[j] = true\n",
    "                    found_city = true\n",
    "                    subtour_length += 1\n",
    "                    break  # Move on to next city\n",
    "                end\n",
    "            end\n",
    "        end\n",
    "        if !found_city\n",
    "            # We are done\n",
    "            break\n",
    "        end\n",
    "    end\n",
    "    return subtour, subtour_length\n",
    "end"
   ]
  },
  {
   "cell_type": "code",
   "execution_count": 4,
   "metadata": {},
   "outputs": [
    {
     "data": {
      "text/plain": [
       "solveTSP (generic function with 1 method)"
      ]
     },
     "execution_count": 4,
     "metadata": {},
     "output_type": "execute_result"
    }
   ],
   "source": [
    "# solveTSP\n",
    "# Given a matrix of city locations, solve the TSP\n",
    "# Inputs:\n",
    "#   n       Number of cities\n",
    "#   cities  n-by-2 matrix of (x,y) city locations\n",
    "# Output:\n",
    "#   path    Vector with order to cities are visited in\n",
    "function solveTSP(n, cities)\n",
    "  # Calculate pairwise distance matrix\n",
    "    dist = zeros(n, n)\n",
    "    for i = 1:n\n",
    "        for j = i:n\n",
    "            d = norm(cities[i,1:2] - cities[j,1:2])\n",
    "            dist[i,j] = d\n",
    "            dist[j,i] = d\n",
    "        end\n",
    "    end\n",
    "\n",
    "    # Create a model that will use Gurobi to solve\n",
    "    TSP = Model(optimizer_with_attributes(() -> Gurobi.Optimizer(GRB_ENV), \"OutputFlag\" => 0));\n",
    "\n",
    "\n",
    "    # x[i,j] is 1 iff we travel between i and j, 0 otherwise\n",
    "    # Although we define all n^2 variables, we will only use\n",
    "    # the upper triangle\n",
    "    @variable(TSP, x[1:n,1:n], Bin)\n",
    "\n",
    "    # Minimize length of tour\n",
    "    @objective(TSP, Min, sum(dist[i,j]*x[i,j] for i=1:n for j=i:n))\n",
    "\n",
    "    # Make x_ij and x_ji be the same thing (undirectional)\n",
    "    # Don't allow self-arcs\n",
    "    for i = 1:n\n",
    "        @constraint(TSP, x[i,i] == 0)\n",
    "        for j = (i+1):n\n",
    "            @constraint(TSP, x[i,j] == x[j,i])\n",
    "        end\n",
    "    end\n",
    "\n",
    "    # We must enter and leave every city once and only once\n",
    "    for i = 1:n\n",
    "        @constraint(TSP, sum(x[i,j] for j=1:n) == 2)\n",
    "    end\n",
    "\n",
    "    while true\n",
    "        # Optional: display tour starting at city 1\n",
    "        println(\"Current tour starting at city 1:\")\n",
    "        optimize!(TSP)\n",
    "        println(extractTour(n, value.(x)))\n",
    "\n",
    "        # Find any set of cities in a subtour\n",
    "        subtour, subtour_length = findSubtour(n, value.(x))\n",
    "\n",
    "        if subtour_length == n\n",
    "            # This \"subtour\" is actually all cities, so we are done\n",
    "            println(\"===================================================\")\n",
    "            println(\"===================================================\")\n",
    "            println(\"Solution visits all cities!\")\n",
    "            println(\"----\")\n",
    "            break\n",
    "        end\n",
    "\n",
    "        # Subtour found - add lazy constraint\n",
    "        # We will build it up piece-by-piece\n",
    "        arcs_from_subtour = zero(AffExpr)\n",
    "\n",
    "        for i = 1:n\n",
    "            if !subtour[i]\n",
    "                # If this city isn't in subtour, skip it\n",
    "                continue\n",
    "            end\n",
    "            # Want to include all arcs from this city, which is in\n",
    "            # the subtour, to all cities not in the subtour\n",
    "            for j = 1:n\n",
    "                if i == j\n",
    "                    # Self-arc\n",
    "                    continue\n",
    "                elseif subtour[j]\n",
    "                    # Both ends in same subtour\n",
    "                    continue\n",
    "                else\n",
    "                    # j isn't in subtour\n",
    "                    arcs_from_subtour += x[i,j]\n",
    "                end\n",
    "            end\n",
    "        end\n",
    "\n",
    "        # Add the new subtour elimination constraint we built\n",
    "        println(\"Adding subtour elimination cut\")\n",
    "        println(\"----\")\n",
    "        @constraint(TSP,  arcs_from_subtour >= 2)        \n",
    "    end  # End function subtour\n",
    "\n",
    "    # Return best tour\n",
    "    return extractTour(n, value.(x))\n",
    "end"
   ]
  },
  {
   "cell_type": "code",
   "execution_count": 5,
   "metadata": {},
   "outputs": [
    {
     "name": "stdout",
     "output_type": "stream",
     "text": [
      "Current tour starting at city 1:\n",
      "[1, 2, 3, 1]\n",
      "Adding subtour elimination cut\n",
      "----\n",
      "Current tour starting at city 1:\n",
      "[1, 2, 4, 6, 5, 3, 1]\n",
      "===================================================\n",
      "===================================================\n",
      "Solution visits all cities!\n",
      "----\n",
      "Solution: \n",
      "[1, 2, 4, 6, 5, 3, 1]\n"
     ]
    }
   ],
   "source": [
    "# Create a simple instance that looks like\n",
    "#       +           +\n",
    "#   +                   +\n",
    "#       +           +\n",
    "# The optimal tour is obvious, but the initial solution will be\n",
    "#    /--+           +--\\\n",
    "#   +               |   +\n",
    "#    \\--+           +--/\n",
    "n = 6\n",
    "cities =[50 200;\n",
    "        100 100;\n",
    "        100 300;\n",
    "        500 100;\n",
    "        500 300;\n",
    "        550 200]\n",
    "tour = solveTSP(n, cities)\n",
    "println(\"Solution: \")\n",
    "println(tour)"
   ]
  },
  {
   "cell_type": "code",
   "execution_count": null,
   "metadata": {},
   "outputs": [],
   "source": []
  }
 ],
 "metadata": {
  "kernelspec": {
   "display_name": "Julia 1.0.5",
   "language": "julia",
   "name": "julia-1.0"
  },
  "language_info": {
   "file_extension": ".jl",
   "mimetype": "application/julia",
   "name": "julia",
   "version": "1.0.5"
  }
 },
 "nbformat": 4,
 "nbformat_minor": 4
}
