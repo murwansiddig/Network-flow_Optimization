{
 "cells": [
  {
   "cell_type": "markdown",
   "metadata": {},
   "source": [
    "# Graph Search Algorithms\n",
    "[Murwan Siddig](mailto:msiddig@clemson.edu)"
   ]
  },
  {
   "cell_type": "code",
   "execution_count": 1,
   "metadata": {},
   "outputs": [],
   "source": [
    "#technical lines\n",
    "using Random;"
   ]
  },
  {
   "cell_type": "code",
   "execution_count": 2,
   "metadata": {},
   "outputs": [],
   "source": [
    "#set the random seed\n",
    "Random.seed!(2021);\n",
    "\n",
    "#Generate the random data instances\n",
    "A = rand(Bool,50,50);\n",
    "B = rand(Bool,50,50);\n",
    "C = rand(Bool,50,50);"
   ]
  },
  {
   "cell_type": "code",
   "execution_count": 3,
   "metadata": {},
   "outputs": [
    {
     "data": {
      "text/plain": [
       "mat2List (generic function with 1 method)"
      ]
     },
     "execution_count": 3,
     "metadata": {},
     "output_type": "execute_result"
    }
   ],
   "source": [
    "function mat2List(mat)\n",
    "    n=size(mat)[1]\n",
    "    list = Any[]\n",
    "    for i=1:n\n",
    "        temp = Any[] # Initialize adjacency\n",
    "        for j=1:n\n",
    "            if mat[i,j]\n",
    "                push!(temp,j)\n",
    "            end\n",
    "        end\n",
    "        push!(list,temp)\n",
    "    end\n",
    "    return list\n",
    "end"
   ]
  },
  {
   "cell_type": "markdown",
   "metadata": {},
   "source": [
    "# Depth-first Search Algorithm"
   ]
  },
  {
   "cell_type": "code",
   "execution_count": 4,
   "metadata": {},
   "outputs": [
    {
     "data": {
      "text/plain": [
       "bfs (generic function with 1 method)"
      ]
     },
     "execution_count": 4,
     "metadata": {},
     "output_type": "execute_result"
    }
   ],
   "source": [
    "function bfs(s,graph)\n",
    "    ###############\n",
    "    # Inputs\n",
    "    # s: index of the node where you start the graph search\n",
    "    # graph: a representation of the graph using the adjacency list\n",
    "    ###############\n",
    "    # Outputs\n",
    "    # visitedNodeSet: a set of nodes that can be visited from s\n",
    "    # pred: the precedence of each node as a result of BFS\n",
    "    ###############\n",
    "    n = length(graph);\n",
    "    visited = fill(0,n);\n",
    "    pred = fill(-1,n);\n",
    "    OPEN = Any[];\n",
    "    push!(OPEN, s);\n",
    "    visited[s] = 1;\n",
    "    while (length(OPEN) > 0)\n",
    "        t = OPEN[1];\n",
    "        for i in graph[t]\n",
    "            if visited[i] == 0\n",
    "                visited[i] = 1;\n",
    "                pred[i] = t;\n",
    "                push!(OPEN, i);\n",
    "            end\n",
    "        end\n",
    "        filter!(e->e!=t, OPEN);\n",
    "    end\n",
    "    visitedNodeSet = Any[];\n",
    "    for i=1:n\n",
    "        if visited[i] == 1\n",
    "            push!(visitedNodeSet, i);\n",
    "        end\n",
    "    end\n",
    "    return pred, visitedNodeSet\n",
    "end"
   ]
  },
  {
   "cell_type": "code",
   "execution_count": 5,
   "metadata": {},
   "outputs": [
    {
     "name": "stdout",
     "output_type": "stream",
     "text": [
      "Set of nodes that can be visited from s = ([-1, 1, 4, 1, 2, 18, 4, 1, 1, 1, 8, 1, 8, 9, 9, 4, 2, 1, 2, 1, 2, 1, 2, 9, 1, 4, 2, 10, 1, 1, 4, 1, 4, 2, 10, 2, 1, 1, 8, 8, 1, 2, 1, 2, 2, 1, 2, 1, 1, 1], Any[1, 2, 3, 4, 5, 6, 7, 8, 9, 10, 11, 12, 13, 14, 15, 16, 17, 18, 19, 20, 21, 22, 23, 24, 25, 26, 27, 28, 29, 30, 31, 32, 33, 34, 35, 36, 37, 38, 39, 40, 41, 42, 43, 44, 45, 46, 47, 48, 49, 50])\n",
      "Set of nodes that can be visited from s = ([-1, 12, 4, 1, 4, 4, 1, 4, 7, 4, 7, 1, 1, 1, 1, 4, 1, 15, 12, 12, 4, 7, 1, 1, 4, 1, 14, 1, 4, 1, 4, 4, 4, 4, 1, 1, 4, 4, 1, 12, 1, 1, 4, 1, 1, 1, 1, 4, 1, 4], Any[1, 2, 3, 4, 5, 6, 7, 8, 9, 10, 11, 12, 13, 14, 15, 16, 17, 18, 19, 20, 21, 22, 23, 24, 25, 26, 27, 28, 29, 30, 31, 32, 33, 34, 35, 36, 37, 38, 39, 40, 41, 42, 43, 44, 45, 46, 47, 48, 49, 50])\n",
      "Set of nodes that can be visited from s = ([-1, 7, 1, 3, 1, 3, 1, 1, 1, 3, 1, 1, 1, 1, 1, 5, 1, 1, 1, 1, 5, 1, 7, 1, 1, 1, 5, 5, 7, 1, 8, 1, 8, 3, 1, 3, 9, 1, 3, 1, 1, 8, 1, 3, 5, 1, 1, 1, 5, 1], Any[1, 2, 3, 4, 5, 6, 7, 8, 9, 10, 11, 12, 13, 14, 15, 16, 17, 18, 19, 20, 21, 22, 23, 24, 25, 26, 27, 28, 29, 30, 31, 32, 33, 34, 35, 36, 37, 38, 39, 40, 41, 42, 43, 44, 45, 46, 47, 48, 49, 50])\n"
     ]
    }
   ],
   "source": [
    "s = 1;\n",
    "GraphA = mat2List(A);\n",
    "visitedNodesA = bfs(s,GraphA);\n",
    "print(\"Set of nodes that can be visited from s = \");\n",
    "println(visitedNodesA);\n",
    "\n",
    "GraphB = mat2List(B);\n",
    "visitedNodesB = bfs(s,GraphB);\n",
    "print(\"Set of nodes that can be visited from s = \");\n",
    "println(visitedNodesB);\n",
    "\n",
    "GraphC = mat2List(C);\n",
    "visitedNodesC = bfs(s,GraphC);\n",
    "print(\"Set of nodes that can be visited from s = \");\n",
    "println(visitedNodesC);"
   ]
  },
  {
   "cell_type": "markdown",
   "metadata": {},
   "source": [
    "# Breadth-first Search Algorithm"
   ]
  },
  {
   "cell_type": "code",
   "execution_count": 6,
   "metadata": {},
   "outputs": [
    {
     "data": {
      "text/plain": [
       "dfs (generic function with 1 method)"
      ]
     },
     "execution_count": 6,
     "metadata": {},
     "output_type": "execute_result"
    }
   ],
   "source": [
    "function dfs(s,graph)\n",
    "    # s: index of the node where you start the graph search\n",
    "    # graph: a representation of the graph using the adjacency list\n",
    "    n = length(graph);\n",
    "    visited = zeros(n);\n",
    "    OPEN = Any[];\n",
    "    push!(OPEN, s);\n",
    "    while (length(OPEN) > 0)\n",
    "        t = OPEN[1];\n",
    "        visited[t] = 1;\n",
    "        for i in graph[t]\n",
    "            if visited[i] == 0\n",
    "                push!(OPEN, i);\n",
    "            end\n",
    "        end\n",
    "        filter!(e->e!=t, OPEN);\n",
    "    end\n",
    "    visitedNodeSet = Any[];\n",
    "    for i=1:n\n",
    "        if visited[i] == 1\n",
    "            push!(visitedNodeSet, i);\n",
    "        end\n",
    "    end\n",
    "    return visitedNodeSet;\n",
    "end"
   ]
  },
  {
   "cell_type": "code",
   "execution_count": 7,
   "metadata": {},
   "outputs": [
    {
     "name": "stdout",
     "output_type": "stream",
     "text": [
      "Set of nodes that can be visited from s = Any[1, 2, 3, 4, 5, 6, 7, 8, 9, 10, 11, 12, 13, 14, 15, 16, 17, 18, 19, 20, 21, 22, 23, 24, 25, 26, 27, 28, 29, 30, 31, 32, 33, 34, 35, 36, 37, 38, 39, 40, 41, 42, 43, 44, 45, 46, 47, 48, 49, 50]\n",
      "Set of nodes that can be visited from s = Any[1, 2, 3, 4, 5, 6, 7, 8, 9, 10, 11, 12, 13, 14, 15, 16, 17, 18, 19, 20, 21, 22, 23, 24, 25, 26, 27, 28, 29, 30, 31, 32, 33, 34, 35, 36, 37, 38, 39, 40, 41, 42, 43, 44, 45, 46, 47, 48, 49, 50]\n",
      "Set of nodes that can be visited from s = Any[1, 2, 3, 4, 5, 6, 7, 8, 9, 10, 11, 12, 13, 14, 15, 16, 17, 18, 19, 20, 21, 22, 23, 24, 25, 26, 27, 28, 29, 30, 31, 32, 33, 34, 35, 36, 37, 38, 39, 40, 41, 42, 43, 44, 45, 46, 47, 48, 49, 50]\n"
     ]
    }
   ],
   "source": [
    "s = 1;\n",
    "GraphA = mat2List(A);\n",
    "visitedNodesA = dfs(s,GraphA);\n",
    "print(\"Set of nodes that can be visited from s = \");\n",
    "println(visitedNodesA);\n",
    "\n",
    "GraphB = mat2List(B);\n",
    "visitedNodesB = dfs(s,GraphB);\n",
    "print(\"Set of nodes that can be visited from s = \");\n",
    "println(visitedNodesB);\n",
    "\n",
    "GraphC = mat2List(C);\n",
    "visitedNodesC = dfs(s,GraphC);\n",
    "print(\"Set of nodes that can be visited from s = \");\n",
    "println(visitedNodesC);"
   ]
  },
  {
   "cell_type": "code",
   "execution_count": null,
   "metadata": {},
   "outputs": [],
   "source": []
  }
 ],
 "metadata": {
  "kernelspec": {
   "display_name": "Julia 1.0.5",
   "language": "julia",
   "name": "julia-1.0"
  },
  "language_info": {
   "file_extension": ".jl",
   "mimetype": "application/julia",
   "name": "julia",
   "version": "1.0.5"
  }
 },
 "nbformat": 4,
 "nbformat_minor": 4
}
