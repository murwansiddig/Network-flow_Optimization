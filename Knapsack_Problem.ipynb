{
 "cells": [
  {
   "cell_type": "markdown",
   "metadata": {},
   "source": [
    "# Knapsack Problems\n",
    "[Murwan Siddig](mailto:msiddig@clemson.edu)\n",
    "\n",
    "----------------------------------------------------------------------\n",
    "\n",
    "## (0-1) Knapsack Problem\n",
    "Consider a set $N = \\{1, 2, \\dots, n\\}$ with $n$ items, where:\n",
    "* Each item $i \\in N$ has a weight $w_i$ and a value $c_i$.\n",
    "* Assumption: a fraction of an item has $0$ value. \n",
    "* Goal: maximize the total value of items in a knapsack which has a cpacity $b$.\n",
    "\n",
    "### Decision variables: \n",
    "$\n",
    "\\Bigg\\{\n",
    "\\begin{array}{cc}\n",
    "& x_i = 1 ; & \\text{If item} \\ i \\ \\text{is included in the knapsack} \\\\\n",
    "& x_i = 0 ; & \\text{Otherwise} \\\\ \n",
    "\\end{array}\n",
    "\\quad \\forall \\ i = 1, 2, \\dots, n.\n",
    "$\n",
    "\n",
    "\\begin{align*}\n",
    "\\max_{\\text{s.t.}} \\ & \\sum_{i=1}^{n} c_i x_i   \\\\\n",
    "& \\sum_{i=1}^{n} w_i x_i \\leq b & \\\\\n",
    "& x_i \\ \\in \\{0, 1\\}, \\ i=1, 2, \\dots, n \\\\\n",
    "\\end{align*}\n",
    "\n",
    "* Suppose your knapsack has **capacity of 8** and the **weights** and **values** of the items are given by:\n",
    "\n",
    "|items |   1  |  2   |   3  |  4   |\n",
    "|------|------|------|------|------|\n",
    "|value | 30   |  60  |  70  |   50  |\n",
    "|weight|  1   |  5   |  4   |   3  |      \n"
   ]
  },
  {
   "cell_type": "code",
   "execution_count": 1,
   "metadata": {},
   "outputs": [
    {
     "name": "stdout",
     "output_type": "stream",
     "text": [
      "Academic license - for non-commercial use only\n"
     ]
    }
   ],
   "source": [
    "#technical lines\n",
    "using Random;\n",
    "using Distributions;\n",
    "using JuMP;\n",
    "using Gurobi;\n",
    "const GRB_ENV = Gurobi.Env();"
   ]
  },
  {
   "cell_type": "code",
   "execution_count": 2,
   "metadata": {},
   "outputs": [],
   "source": [
    "n= 4; #number of available items\n",
    "b = 8; #capacity\n",
    "c = [30, 60, 70, 50]; #values\n",
    "w = [2, 5, 4, 3]; #weights"
   ]
  },
  {
   "cell_type": "code",
   "execution_count": 3,
   "metadata": {},
   "outputs": [
    {
     "name": "stdout",
     "output_type": "stream",
     "text": [
      "=======================================\n",
      "=======================================\n",
      "Status = OPTIMAL\n",
      "Optimal objective value = 120.0\n",
      "Optimal x value = [0.0, 0.0, 1.0, 1.0]\n"
     ]
    }
   ],
   "source": [
    "KS = Model(optimizer_with_attributes(() -> Gurobi.Optimizer(GRB_ENV), \"OutputFlag\" => 0));\n",
    "#Define a decision variable for each item in the set N\n",
    "@variable(KS, x[i=1:n], Bin); #Bin ==> is telling the solver x must be either 1 or 0.\n",
    "@objective(KS, Max, sum(c[i]*x[i] for i=1:n));\n",
    "@constraint(KS, sum(w[i]*x[i] for i=1:n)<= b);\n",
    "\n",
    "\n",
    "#Solving the problem\n",
    "optimize!(KS);\n",
    "status = termination_status(KS);\n",
    "obj_value = objective_value(KS);\n",
    "\n",
    "#getting the value of the decision variables x\n",
    "x_value = value.(x);\n",
    "println(\"=======================================\")\n",
    "println(\"=======================================\")\n",
    "println(\"Status = \", status)\n",
    "println(\"Optimal objective value = \", obj_value)\n",
    "println(\"Optimal x value = \", x_value)"
   ]
  },
  {
   "cell_type": "markdown",
   "metadata": {},
   "source": [
    "## A Dynamic Programming Formulation"
   ]
  },
  {
   "cell_type": "code",
   "execution_count": 4,
   "metadata": {},
   "outputs": [
    {
     "data": {
      "text/plain": [
       "KS_DP (generic function with 1 method)"
      ]
     },
     "execution_count": 4,
     "metadata": {},
     "output_type": "execute_result"
    }
   ],
   "source": [
    "function KS_DP(KnapSackCap,NumbItems)\n",
    "    f = zeros(NumbItems+1,KnapSackCap+1); #this is the value of the knapsack equation while looking at the kth item with at capacity l \n",
    "    p = zeros(NumbItems+1,KnapSackCap+1); #this is the label of the item while looking at the kth item with at capacity l (0 means not taken, 1 otherwise) \n",
    "    for k=2:NumbItems+1\n",
    "        for l=2:KnapSackCap+1\n",
    "            f[k,l]=1e10\n",
    "        end\n",
    "    end\n",
    "    \n",
    "    for k=1:NumbItems\n",
    "        for l=1:KnapSackCap\n",
    "            if l+1 <= w[k] || f[k,l+1]>=c[k]+f[k,l+1-w[k]]\n",
    "                f[k+1,l+1]=f[k,l+1];\n",
    "                p[k+1,l+1]=0\n",
    "            else\n",
    "                f[k+1,l+1]=c[k]+f[k,l+1-w[k]];\n",
    "                p[k+1,l+1]=1\n",
    "            end\n",
    "        end\n",
    "    end\n",
    "    return f, p\n",
    "end         "
   ]
  },
  {
   "cell_type": "code",
   "execution_count": 5,
   "metadata": {},
   "outputs": [
    {
     "name": "stdout",
     "output_type": "stream",
     "text": [
      "Items which will be included=[3, 4]\n"
     ]
    }
   ],
   "source": [
    "KnapSackCap =  8;\n",
    "NumbItems = 4;\n",
    "KnapSack, labels = KS_DP(KnapSackCap,NumbItems);\n",
    "items = [];\n",
    "tempCap = KnapSackCap+1;\n",
    "for i=NumbItems+1:-1:1\n",
    "    if labels[i,tempCap]==1\n",
    "        push!(items,i)\n",
    "        tempCap -= w[i-1]\n",
    "    end\n",
    "end\n",
    "items = items[end:-1:1].-1;\n",
    "println(\"Items which will be included=\" , items);"
   ]
  },
  {
   "cell_type": "markdown",
   "metadata": {},
   "source": [
    "## Multiple items Knapsack Problem\n",
    "\n",
    "**Now suppose there are multiple of each items and we can take as many as we want.**\n",
    "\n",
    "### Decision variables: \n",
    "$\n",
    "\\begin{array}{cc}\n",
    "& x_i : & \\text{How many of item} \\ i \\ \\text{should we include in the Knapsack} \\\\\n",
    "\\end{array}\n",
    "\\quad \\forall \\ i = 1, 2, \\dots, n.\n",
    "$\n",
    "\n",
    "\\begin{align*}\n",
    "\\max_{\\text{s.t.}} \\ & \\sum_{i=1}^{n} c_i x_i   \\\\\n",
    "& \\sum_{i=1}^{n} w_i x_i \\leq b & \\\\\n",
    "& x_i \\ \\in \\mathbb{Z}_{+}, \\ i=1, 2, \\dots, n \\\\\n",
    "\\end{align*}"
   ]
  },
  {
   "cell_type": "code",
   "execution_count": 6,
   "metadata": {},
   "outputs": [
    {
     "name": "stdout",
     "output_type": "stream",
     "text": [
      "=======================================\n",
      "=======================================\n",
      "Status = OPTIMAL\n",
      "Optimal objective value = 3212.0\n",
      "Optimal x value = [0.0, 56.0, 0.0, 4.0]\n"
     ]
    }
   ],
   "source": [
    "b = 292; #capacity\n",
    "c = [19, 55, 43, 33]; #values\n",
    "w = [2, 5, 4, 3]; #weights\n",
    "\n",
    "KS_integer = Model(optimizer_with_attributes(() -> Gurobi.Optimizer(GRB_ENV), \"OutputFlag\" => 0));\n",
    "#Define a decision variable for each item in the set N\n",
    "@variable(KS_integer, x[i=1:n]>=0, Int); #Int ==> is telling the solver x must be an integer value.\n",
    "@objective(KS_integer, Max, sum(c[i]*x[i] for i=1:n));\n",
    "@constraint(KS_integer, sum(w[i]*x[i] for i=1:n)<= b);\n",
    "\n",
    "\n",
    "#Solving the problem\n",
    "optimize!(KS_integer);\n",
    "status = termination_status(KS_integer);\n",
    "obj_value = objective_value(KS_integer);\n",
    "\n",
    "#getting the value of the decision variables x\n",
    "x_value = value.(x);\n",
    "println(\"=======================================\")\n",
    "println(\"=======================================\")\n",
    "println(\"Status = \", status)\n",
    "println(\"Optimal objective value = \", obj_value)\n",
    "println(\"Optimal x value = \", x_value)"
   ]
  },
  {
   "cell_type": "markdown",
   "metadata": {},
   "source": [
    "## Dynamic Programming Formulation"
   ]
  },
  {
   "cell_type": "code",
   "execution_count": 7,
   "metadata": {},
   "outputs": [],
   "source": [
    "values = c;\n",
    "weights = w;\n",
    "capacity =  b;\n",
    "\n",
    "NumbItems = length(values)\n",
    "new_items = [];\n",
    "for k=1:NumbItems\n",
    "    temp = fld(capacity,weights[k])\n",
    "    push!(new_items,temp)\n",
    "end\n",
    "\n",
    "cc = zeros(convert(Int64,sum(new_items)))\n",
    "aa = zeros(convert(Int64,sum(new_items)))\n",
    "\n",
    "position = [];\n",
    "\n",
    "count = 0\n",
    "for k=1:NumbItems\n",
    "    for n=1:new_items[k]\n",
    "        templist = [];\n",
    "        push!(templist,n)\n",
    "        push!(templist,k)\n",
    "        push!(position,templist)\n",
    "        count +=1\n",
    "        cc[count] = values[k]*n\n",
    "        aa[count] = weights[k]*n\n",
    "    end\n",
    "end\n",
    "    \n",
    "NumbItems = convert(Int64,sum(new_items));\n",
    "values = []\n",
    "weights = []\n",
    "for i=1:NumbItems\n",
    "    tempc = convert(Int64, cc[i])\n",
    "    push!(values,tempc)\n",
    "    tempa = convert(Int64, aa[i])\n",
    "    push!(weights,tempa)\n",
    "end"
   ]
  },
  {
   "cell_type": "code",
   "execution_count": 8,
   "metadata": {},
   "outputs": [
    {
     "data": {
      "text/plain": [
       "Knapsack (generic function with 1 method)"
      ]
     },
     "execution_count": 8,
     "metadata": {},
     "output_type": "execute_result"
    }
   ],
   "source": [
    "function Knapsack(values, weights, capacity)\n",
    "    len1 = convert(Int64,length(values)+1);\n",
    "    println()\n",
    "    len2 = convert(Int64,capacity+1);\n",
    "    f = zeros(len1,len2);\n",
    "    p = zeros(len1,len2); \n",
    "    for k=2:len1\n",
    "        for l=2:len2\n",
    "            f[k,l]=1e10\n",
    "        end\n",
    "    end\n",
    "    \n",
    "    for k=1:length(values)\n",
    "        for l=1:capacity\n",
    "            if l+1 <= weights[k] || f[k,l+1]>=values[k]+f[k,l+1-weights[k]]\n",
    "                f[k+1,l+1]=f[k,l+1];\n",
    "                p[k+1,l+1]=0\n",
    "            else\n",
    "                f[k+1,l+1]=values[k]+f[k,l+1-weights[k]];\n",
    "                p[k+1,l+1]=1\n",
    "            end\n",
    "        end\n",
    "    end\n",
    "    return f, p\n",
    "end"
   ]
  },
  {
   "cell_type": "code",
   "execution_count": 9,
   "metadata": {},
   "outputs": [
    {
     "name": "stdout",
     "output_type": "stream",
     "text": [
      "\n",
      "Optimal value = 3212.0\n",
      "Items which will be included:\n",
      "1 items of 2\n",
      "2 items of 2\n",
      "3 items of 2\n",
      "4 items of 2\n",
      "5 items of 2\n",
      "6 items of 2\n",
      "7 items of 2\n",
      "8 items of 2\n",
      "9 items of 2\n",
      "11 items of 2\n",
      "1 items of 4\n",
      "3 items of 4\n"
     ]
    }
   ],
   "source": [
    "KnapSack, labels = Knapsack(values, weights, capacity);\n",
    "\n",
    "println(\"Optimal value = \" , KnapSack[length(values)+1,capacity+1])\n",
    "\n",
    "items = [];\n",
    "tempCap = capacity+1;\n",
    "for i=length(values)+1:-1:1\n",
    "    if labels[i,tempCap]==1\n",
    "        push!(items,i)\n",
    "        tempCap -= weights[i-1]\n",
    "    end\n",
    "end\n",
    "items = items[end:-1:1].-1;\n",
    "#println(\"Items which will be included=\" , items)\n",
    "println(\"Items which will be included:\")\n",
    "for i=1:length(items)\n",
    "    println(position[items[i]][1], \" items of \", position[items[i]][2])\n",
    "end\n",
    "\n",
    "#To double check our result\n",
    "Optimal = sum(values[k] for k in items);"
   ]
  },
  {
   "cell_type": "code",
   "execution_count": null,
   "metadata": {},
   "outputs": [],
   "source": []
  }
 ],
 "metadata": {
  "kernelspec": {
   "display_name": "Julia 1.0.5",
   "language": "julia",
   "name": "julia-1.0"
  },
  "language_info": {
   "file_extension": ".jl",
   "mimetype": "application/julia",
   "name": "julia",
   "version": "1.0.5"
  }
 },
 "nbformat": 4,
 "nbformat_minor": 4
}
