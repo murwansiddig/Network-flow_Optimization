{
 "cells": [
  {
   "cell_type": "markdown",
   "metadata": {},
   "source": [
    "# Vehicle Routing Problem\n",
    "[Murwan Siddig](mailto:msiddig@clemson.edu)\n",
    "\n",
    "------------------------------------------------------------------------\n",
    "## Two Index One Commodity Flow Formulation"
   ]
  },
  {
   "cell_type": "code",
   "execution_count": 1,
   "metadata": {},
   "outputs": [],
   "source": [
    "include(\"data_VRP.jl\");"
   ]
  },
  {
   "cell_type": "code",
   "execution_count": 2,
   "metadata": {},
   "outputs": [
    {
     "name": "stdout",
     "output_type": "stream",
     "text": [
      "\n",
      "--------------------------------------------\n",
      "Warning: your license will expire in 14 days\n",
      "--------------------------------------------\n",
      "\n",
      "Academic license - for non-commercial use only\n"
     ]
    }
   ],
   "source": [
    "#technical lines\n",
    "using Random;\n",
    "using Distributions;\n",
    "using LinearAlgebra\n",
    "using JuMP;\n",
    "using Gurobi;\n",
    "const GRB_ENV = Gurobi.Env();"
   ]
  },
  {
   "cell_type": "code",
   "execution_count": 3,
   "metadata": {},
   "outputs": [
    {
     "data": {
      "text/plain": [
       "extractTour (generic function with 1 method)"
      ]
     },
     "execution_count": 3,
     "metadata": {},
     "output_type": "execute_result"
    }
   ],
   "source": [
    "#Function to extract the tour for each vehicle in operation \n",
    "function extractTour(n, sol)\n",
    "    #Initilaize the an empty list for the lists of tours\n",
    "    tours = [];\n",
    "    #The number of vehicles in operation is equal to the number of arcs leaving the depot node \n",
    "    used_vehilces = sum(sol[1,j] for j=1:n);\n",
    "    count = used_vehilces\n",
    "    #Keep doing this loop until the tour for each vehicle in use is obtained \n",
    "    while count !=0\n",
    "        count -=1\n",
    "        tour = [1]  # Start at city 1 always\n",
    "        cur_city = 1\n",
    "        while true\n",
    "            # Look for first arc out of current city\n",
    "            for j = 1:n\n",
    "                if sol[cur_city,j] >= 1-1e-6\n",
    "                    # Found next city\n",
    "                    push!(tour, j)\n",
    "                    # Don't ever use this arc again\n",
    "                    sol[cur_city, j] = 0.0\n",
    "                    sol[j, cur_city] = 0.0\n",
    "                    # Move to next city\n",
    "                    cur_city = j\n",
    "                    break\n",
    "                end\n",
    "            end\n",
    "            # If we have come back to 1, stop\n",
    "            if cur_city == 1\n",
    "                break\n",
    "            end\n",
    "        end  # end while\n",
    "        push!(tours, tour)\n",
    "    end\n",
    "    \n",
    "    return tours\n",
    "end"
   ]
  },
  {
   "cell_type": "code",
   "execution_count": 4,
   "metadata": {},
   "outputs": [],
   "source": [
    "#Two-index one-commodity flow formulation \n",
    "VRP2 = Model(optimizer_with_attributes(() -> Gurobi.Optimizer(GRB_ENV), \"OutputFlag\" => 0));\n",
    "@variable(VRP2, x[1:nn,1:nn], Bin); \n",
    "@variable(VRP2, f[1:nn,1:nn]>=0);\n",
    "@objective(VRP2, Min, sum(c[i,j]*x[i,j] for i=1:nn for j=1:nn));\n",
    "\n",
    "\n",
    "for i = 1:nn\n",
    "    @constraint(VRP2, x[i,i] == 0)\n",
    "    @constraint(VRP2, f[i,i] == 0)\n",
    "end                \n",
    "                \n",
    "@constraint(VRP2, sum(x[j,1] for j=2:nn)==sum(x[1,j] for j=2:nn));\n",
    "@constraint(VRP2, sum(x[j,1] for j=2:nn) <=nv);\n",
    "@constraint(VRP2, sum(x[1,j] for j=2:nn) <=nv);\n",
    "for i=2:nn\n",
    "    ind = [];\n",
    "    for k=1:nn\n",
    "        if k !=i\n",
    "            push!(ind,k)\n",
    "        end\n",
    "    end\n",
    "    @constraint(VRP2, sum(x[i,j] for j in ind)==sum(x[j,i] for j in ind));\n",
    "    @constraint(VRP2, sum(x[i,j] for j in ind)==1);\n",
    "    @constraint(VRP2, sum(x[j,i] for j in ind)==1);\n",
    "end\n",
    "\n",
    "for i=2:nn\n",
    "    ind = [];\n",
    "    for k=1:nn\n",
    "        if k !=i\n",
    "            push!(ind,k)\n",
    "        end\n",
    "    end\n",
    "    @constraint(VRP2, sum(f[j,i] for j in ind)-sum(f[i,j] for j in ind)==q[i]);\n",
    "end\n",
    "for i=1:nn\n",
    "    for j=1:nn\n",
    "        @constraint(VRP2, f[i,j]<=(Q-q[i])*x[i,j]);\n",
    "        @constraint(VRP2, q[j]*x[i,j]<=f[i,j]);\n",
    "    end\n",
    "end"
   ]
  },
  {
   "cell_type": "code",
   "execution_count": 5,
   "metadata": {},
   "outputs": [
    {
     "name": "stdout",
     "output_type": "stream",
     "text": [
      "750.629110 seconds (39.05 M allocations: 1.953 GiB, 0.25% gc time)\n",
      "***********************************************\n",
      "***********************************************\n",
      " solved! \n",
      "===============================================\n",
      "Tours = Any[[1, 15, 29, 12, 5, 24, 4, 3, 7, 1], [1, 21, 6, 26, 11, 16, 23, 10, 9, 19, 30, 1], [1, 25, 28, 1], [1, 27, 8, 14, 18, 20, 32, 22, 1], [1, 31, 17, 2, 13, 1]]\n",
      "This solution is Feasible and Optimal\n",
      "Optimal objective value = 784.0\n"
     ]
    }
   ],
   "source": [
    "@time optimize!(VRP2)\n",
    "println(\"***********************************************\")\n",
    "println(\"***********************************************\")\n",
    "println(\" solved! \")\n",
    "println(\"===============================================\")\n",
    "tours = extractTour(nn, value.(x))\n",
    "println(\"Tours = \",tours)\n",
    "println(\"This solution is Feasible and Optimal\")\n",
    "println(\"Optimal objective value = \", objective_value(VRP2));"
   ]
  },
  {
   "cell_type": "code",
   "execution_count": null,
   "metadata": {},
   "outputs": [],
   "source": []
  }
 ],
 "metadata": {
  "kernelspec": {
   "display_name": "Julia 1.5.3",
   "language": "julia",
   "name": "julia-1.5"
  },
  "language_info": {
   "file_extension": ".jl",
   "mimetype": "application/julia",
   "name": "julia",
   "version": "1.5.3"
  }
 },
 "nbformat": 4,
 "nbformat_minor": 4
}
